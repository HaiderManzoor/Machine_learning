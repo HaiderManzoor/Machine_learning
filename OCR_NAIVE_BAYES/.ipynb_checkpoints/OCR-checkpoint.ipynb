{
 "cells": [
  {
   "cell_type": "markdown",
   "metadata": {},
   "source": [
    "# OCR SYSTEM"
   ]
  },
  {
   "cell_type": "markdown",
   "metadata": {},
   "source": [
    "#### Import Libraries"
   ]
  },
  {
   "cell_type": "code",
   "execution_count": 44,
   "metadata": {},
   "outputs": [],
   "source": [
    "%matplotlib inline\n",
    "import numpy as np\n",
    "from matplotlib import pyplot as plt\n",
    "import pandas as pd"
   ]
  },
  {
   "cell_type": "markdown",
   "metadata": {},
   "source": [
    "#### Import sample images"
   ]
  },
  {
   "cell_type": "code",
   "execution_count": 45,
   "metadata": {},
   "outputs": [
    {
     "data": {
      "image/png": "[encoded data removed]",
      "text/plain": [
       "<Figure size 640x480 with 2 Axes>"
      ]
     },
     "metadata": {},
     "output_type": "display_data"
    }
   ],
   "source": [
    "img2=np.array([0,0,0,0,0,0,0,0,0,0,0,0,0,0,0,0,0,0,1,1,1,0,0,0,0,0,0,0,0,0,0,0,0,1,1,0,0,0,0,0,0,0,0,\n",
    "0,0,1,0,0,1,0,0,0,0,0,0,0,0,0,0,0,1,1,0,0,1,0,0,0,0,0,0,0,0,0,0,0,1,1,0,0,1,0,0,0,0,0,0,0,0,0,0,0,1,\n",
    "1,1,0,1,0,0,0,0,0,0,0,0,0,0,1,1,0,1,0,1,0,0,0,0,0,0,0,0,0,0,1,0,0,1,0,1,0,0,0,0,0,0,0,0,0,1,0,0,0,1,\n",
    "0,1,1,1,1,1,1,1,1,1,1,1,0,0,0,1,1,0,0,0,0,0,0,0,0,0,0,0,0,0,0,0,1,0,0,0,0,0,0,0,0,0,0,0,0,0,0,0,1,0,\n",
    "0,0,0,0,0,0,0,0,0,0,0,0,0,0,1,0,0,0,0,0,0,0,0,0,0,0,0,0,0,0,1,0,0,0,0,0,0,0,0,0,0,0,0,0,0,0,1,0,0,0,\n",
    "0,0,0,0,0,0,0,0,0,0,0,0,0],dtype=np.uint8)\n",
    "\n",
    "img4=np.array([0,0,0,0,0,0,0,0,0,0,0,0,0,0,0,0,0,0,0,0,0,0,0,0,0,0,0,0,0,0,0,0,0,0,0,0,0,0,0,1,0,0,0,\n",
    "0,0,0,0,0,1,1,1,1,1,1,1,1,0,0,0,0,0,0,0,0,0,0,0,0,0,0,0,1,0,0,0,0,0,0,0,1,0,0,0,0,0,0,0,1,0,0,0,0,0,\n",
    "1,1,1,0,0,0,0,0,0,1,0,0,0,1,1,1,0,0,0,0,0,0,0,0,0,1,0,0,1,1,0,0,0,0,0,0,0,0,0,0,0,1,1,1,0,0,0,0,0,0,\n",
    "0,0,1,1,1,1,1,1,0,0,0,0,0,0,0,0,0,1,1,0,0,0,1,0,0,0,0,0,0,0,0,0,0,0,0,0,0,0,1,0,0,0,0,0,0,0,0,0,0,0,\n",
    "0,0,0,1,1,0,0,0,0,0,0,0,0,0,0,0,0,0,0,0,1,0,0,0,0,0,0,0,0,0,0,0,0,0,0,0,0,0,0,0,0,0,0,0,0,0,0,0,0,0,\n",
    "0,0,0,0,0,0,0,0,0,0,0,0,0],dtype=np.uint8)\n",
    "\n",
    "img = np.reshape(img4,(16,16),order= 'F')\n",
    "img1 = np.reshape(img2,(16,16),order= 'F')\n",
    "\n",
    "fig, axes = plt.subplots(1, 2)\n",
    "axes[0].imshow(img)\n",
    "axes[0].set_title('Image of 4')\n",
    "axes[1].imshow(img1)\n",
    "axes[1].set_title('Image of 2')\n",
    "\n",
    "plt.tight_layout()\n",
    "\n",
    "plt.show()"
   ]
  },
  {
   "cell_type": "markdown",
   "metadata": {},
   "source": [
    "## Import Data from the Files"
   ]
  },
  {
   "cell_type": "markdown",
   "metadata": {},
   "source": [
    "#### Training Data"
   ]
  },
  {
   "cell_type": "code",
   "execution_count": 46,
   "metadata": {},
   "outputs": [
    {
     "name": "stdout",
     "output_type": "stream",
     "text": [
      "Shape of X_train :  (500, 256)\n",
      "Shape of Y_train :  (500,)\n"
     ]
    }
   ],
   "source": [
    "#Your code here\n",
    "X_train = np.genfromtxt(\"trainX.txt\")\n",
    "print(\"Shape of X_train : \",X_train.shape)\n",
    "Y_train = np.genfromtxt(\"trainY.txt\")\n",
    "print(\"Shape of Y_train : \",Y_train.shape)\n"
   ]
  },
  {
   "cell_type": "markdown",
   "metadata": {},
   "source": [
    "Expected Output <br>\n",
    "- Shape of X_train : (500, 256) <br>\n",
    "- Shape of y_train : (500,)"
   ]
  },
  {
   "cell_type": "markdown",
   "metadata": {},
   "source": [
    "### Testing Data"
   ]
  },
  {
   "cell_type": "code",
   "execution_count": 47,
   "metadata": {},
   "outputs": [
    {
     "name": "stdout",
     "output_type": "stream",
     "text": [
      "Shape of X_test :  (100, 256)\n",
      "Shape of y_test :  (100,)\n"
     ]
    }
   ],
   "source": [
    "#Your code here\n",
    "X_test = np.genfromtxt(\"testX.txt\")\n",
    "print(\"Shape of X_test : \",X_test.shape)\n",
    "Y_test = np.genfromtxt(\"testY.txt\")\n",
    "print(\"Shape of y_test : \",Y_test.shape)"
   ]
  },
  {
   "cell_type": "markdown",
   "metadata": {},
   "source": [
    "Expected Output <br>\n",
    "- Shape of X_train : (100, 256) <br>\n",
    "- Shape of y_train : (100,)\n"
   ]
  },
  {
   "cell_type": "markdown",
   "metadata": {},
   "source": [
    "### Dividing Data W.R.T its Classes"
   ]
  },
  {
   "cell_type": "markdown",
   "metadata": {},
   "source": [
    "##### Training Data"
   ]
  },
  {
   "cell_type": "code",
   "execution_count": 48,
   "metadata": {},
   "outputs": [
    {
     "name": "stdout",
     "output_type": "stream",
     "text": [
      "Shape of img2_X_train :  (250, 256)\n",
      "Shape of img4_X_train :  (250, 256)\n"
     ]
    }
   ],
   "source": [
    "#AS we know first 250 images are of 2 so we will take first 250 images from X_train\n",
    "#your code here\n",
    "img2_X_train = X_train[:250,:]\n",
    "print(\"Shape of img2_X_train : \",img2_X_train.shape)\n",
    "img4_X_train = X_train[250:,:]\n",
    "print(\"Shape of img4_X_train : \",img4_X_train.shape)"
   ]
  },
  {
   "cell_type": "markdown",
   "metadata": {},
   "source": [
    "##### Another way\n",
    "You can coment the below code if you dont want to try this effective way and will use the above code to divide the data into classes"
   ]
  },
  {
   "cell_type": "code",
   "execution_count": 49,
   "metadata": {},
   "outputs": [
    {
     "name": "stdout",
     "output_type": "stream",
     "text": [
      "Shape of X_train : (250, 256)\n",
      "Shape of Y_train : (250, 256)\n"
     ]
    }
   ],
   "source": [
    "#But in case if we didn't know that first 250 images are of 2 then we can use this code\n",
    "#This img2_X_train will contain only only those images from X_train which have corespondong label of 2 in Y_train\n",
    "img2_X_train =  X_train[Y_train == 2][:250]\n",
    "print(f'Shape of X_train : {img2_X_train.shape}')\n",
    "\n",
    "# img4_X_train will contain the first 250 images with label 4\n",
    "img4_X_train = X_train[Y_train == 4][:250]\n",
    "print(f'Shape of Y_train : {img4_X_train.shape}')\n"
   ]
  },
  {
   "cell_type": "markdown",
   "metadata": {},
   "source": [
    "Expected Output <br>\n",
    "- Shape of X_train : (250, 256) <br>\n",
    "- Shape of y_train : (250, 256)\n"
   ]
  },
  {
   "cell_type": "markdown",
   "metadata": {},
   "source": [
    "##### Testing Data"
   ]
  },
  {
   "cell_type": "code",
   "execution_count": 50,
   "metadata": {},
   "outputs": [
    {
     "name": "stdout",
     "output_type": "stream",
     "text": [
      "Shape of X_test : (50, 256)\n",
      "Shape of Y_test : (50, 256)\n"
     ]
    }
   ],
   "source": [
    "# Your code here\n",
    "\n",
    "img2_X_test = X_test[Y_test==2]\n",
    "img4_X_test = X_test[Y_test==4]\n",
    "print(f'Shape of X_test : {img2_X_test.shape}')\n",
    "print(f'Shape of Y_test : {img4_X_test.shape}')"
   ]
  },
  {
   "cell_type": "markdown",
   "metadata": {},
   "source": [
    "Expected Output <br>\n",
    "- Shape of X_train : (50, 256) <br>\n",
    "- Shape of y_train : (50, 256)\n"
   ]
  },
  {
   "cell_type": "markdown",
   "metadata": {},
   "source": [
    "### Finding the Probabilities"
   ]
  },
  {
   "cell_type": "markdown",
   "metadata": {},
   "source": [
    "### Training Data"
   ]
  },
  {
   "cell_type": "markdown",
   "metadata": {},
   "source": [
    "##### Probabailty of 1s and 0s"
   ]
  },
  {
   "cell_type": "code",
   "execution_count": 51,
   "metadata": {},
   "outputs": [
    {
     "name": "stdout",
     "output_type": "stream",
     "text": [
      "(256,)\n",
      "(256,)\n",
      "(256,)\n",
      "(256,)\n"
     ]
    }
   ],
   "source": [
    "img2_one_prob = (img2_X_train.sum(axis=0)+1)/(len(img2_X_train)+2)\n",
    "img2_zero_prob = 1 - img2_one_prob\n",
    "img4_one_prob = (img4_X_train.sum(axis=0)+1)/(len(img4_X_train)+2)\n",
    "img4_zero_prob = 1 - img4_one_prob \n",
    "\n",
    "\n",
    "print(img2_one_prob.shape)\n",
    "print(img2_zero_prob.shape)\n",
    "print(img4_one_prob.shape)\n",
    "print(img4_zero_prob.shape)"
   ]
  },
  {
   "cell_type": "markdown",
   "metadata": {},
   "source": [
    "Expected Output <br>\n",
    "- (256,)\n",
    "- (256,)\n",
    "- (256,)\n",
    "- (256,)\n"
   ]
  },
  {
   "cell_type": "markdown",
   "metadata": {},
   "source": [
    "#### Class Probabilities"
   ]
  },
  {
   "cell_type": "code",
   "execution_count": 52,
   "metadata": {},
   "outputs": [
    {
     "name": "stdout",
     "output_type": "stream",
     "text": [
      "Probability for class 2 is 0.5\n",
      "Probability for class 4 is 0.5\n"
     ]
    }
   ],
   "source": [
    "# Your code here\n",
    "\n",
    "prob_class_two = np.sum(Y_train==2) / len(Y_train)\n",
    "print(f'Probability for class 2 is {prob_class_two}')\n",
    "\n",
    "prob_class_four = np.sum(Y_train==4) / len(Y_train)\n",
    "print(f'Probability for class 4 is {prob_class_four}')\n",
    "\n",
    "pred_2 = img2_one_prob * prob_class_two\n",
    "pred_4 = img4_one_prob * prob_class_four\n",
    "pred_not_2 = img2_zero_prob * prob_class_two\n",
    "pred_not_4 = img4_zero_prob * prob_class_two\n",
    "\n",
    " "
   ]
  },
  {
   "cell_type": "markdown",
   "metadata": {},
   "source": [
    "#### Predictions"
   ]
  },
  {
   "cell_type": "code",
   "execution_count": 53,
   "metadata": {},
   "outputs": [],
   "source": [
    "def predict_label(x):\n",
    "    likelihood_class2 = np.prod(np.power(img2_one_prob, x) * np.power(img2_zero_prob, 1 - x))\n",
    "    likelihood_class4 = np.prod(np.power(img4_one_prob, x) * np.power(img4_zero_prob, 1 - x))\n",
    "\n",
    "    # Apply Bayes' theorem\n",
    "    posterior_prob_class2 = (likelihood_class2 * prob_class_two) \n",
    "    posterior_prob_class4 = (likelihood_class4 * prob_class_four) \n",
    "\n",
    "    # Predict the class label based on the highest posterior probability\n",
    "    if posterior_prob_class2 > posterior_prob_class4:\n",
    "        return 2, posterior_prob_class2\n",
    "    else:\n",
    "        return 4, posterior_prob_class4\n",
    "predicted_labels = []\n",
    "probabilities = []\n",
    "\n",
    "# Predict labels and calculate probabilities for each data point in x\n",
    "for data_point in X_train:\n",
    "   # print(data_point)\n",
    "    label, prob = predict_label(data_point)\n",
    "    #print(label)\n",
    "    predicted_labels.append(label)\n",
    "    probabilities.append(prob)\n"
   ]
  },
  {
   "cell_type": "markdown",
   "metadata": {},
   "source": [
    "#### Overall Accuracy"
   ]
  },
  {
   "cell_type": "code",
   "execution_count": 56,
   "metadata": {},
   "outputs": [
    {
     "name": "stdout",
     "output_type": "stream",
     "text": [
      "TP = 246 FP = 4\n",
      "FN = 2 TN = 248\n",
      "\n",
      "Overall Accuracy =  0.988\n"
     ]
    }
   ],
   "source": [
    "# Your code here\n",
    "actual2_predictions2 = np.sum((predicted_labels[class2_indices] == Y_train[class2_indices]).astype(int))\n",
    "actual4_predictions2 = np.sum((predicted_labels[class2_indices] == Y_train[class4_indices]).astype(int))\n",
    "actual2_predictions4 = np.sum((predicted_labels[class4_indices] == Y_train[class2_indices]).astype(int))\n",
    "actual4_predictions4 = np.sum((predicted_labels[class4_indices] == Y_train[class4_indices]).astype(int))\n",
    "print(f'TP = {actual2_predictions2} FP = {actual4_predictions2}\\nFN = {actual2_predictions4} TN = {actual4_predictions4}')\n",
    "\n",
    "\n",
    "\n",
    "overall_Accuracy = np.sum(predicted_labels == Y_train)/len(Y_train)\n",
    "\n",
    "print(\"\\nOverall Accuracy = \", overall_Accuracy)"
   ]
  },
  {
   "cell_type": "markdown",
   "metadata": {},
   "source": [
    "Expected Output \n",
    "<br><br>\n",
    "**Confusion Matrix**\n",
    "<br>\n",
    "TP =  248 \tFP =  4\n",
    "<br>\n",
    "FN =  2 \tTN =  246\n",
    "<br>\n",
    "- Overall Accuracy =  0.988"
   ]
  },
  {
   "cell_type": "markdown",
   "metadata": {},
   "source": [
    "#### Classwise Accuracy"
   ]
  },
  {
   "cell_type": "code",
   "execution_count": 55,
   "metadata": {},
   "outputs": [
    {
     "name": "stdout",
     "output_type": "stream",
     "text": [
      "Total accuracy of Training data given class 2:  0.984\n",
      "Total accuracy of Training data given class 4:  0.992\n"
     ]
    }
   ],
   "source": [
    "# Your code here\n",
    "\n",
    "predicted_labels = np.array(predicted_labels)\n",
    "class2_indices = np.where(Y_train == 2)[0]\n",
    "class2_correct_predictions = np.sum((predicted_labels[class2_indices] == Y_train[class2_indices]).astype(int))\n",
    "class2_total_instances = len(class2_indices)\n",
    "class2_train_total_accuracy = class2_correct_predictions / class2_total_instances \n",
    "\n",
    "class4_indices = np.where(Y_train == 4)[0]\n",
    "class4_correct_predictions = np.sum((predicted_labels[class4_indices] == Y_train[class4_indices]).astype(int))\n",
    "class4_total_instances = len(class4_indices)\n",
    "class4_train_total_accuracy = class4_correct_predictions / class4_total_instances \n",
    "\n",
    "print(\"Total accuracy of Training data given class 2: \", class2_train_total_accuracy)\n",
    "print(\"Total accuracy of Training data given class 4: \" , class4_train_total_accuracy)"
   ]
  },
  {
   "cell_type": "markdown",
   "metadata": {},
   "source": [
    "Expected Output <br>\n",
    "\n",
    "- Total accuracy of Training data given class 2:  0.984\n",
    "<br>\n",
    "- Total accuracy of Training data given class 4:  0.992"
   ]
  },
  {
   "cell_type": "markdown",
   "metadata": {},
   "source": [
    "### FOR TESTING DATA"
   ]
  },
  {
   "cell_type": "markdown",
   "metadata": {},
   "source": [
    "##### Probabailty of 1s and 0s"
   ]
  },
  {
   "cell_type": "code",
   "execution_count": 57,
   "metadata": {},
   "outputs": [
    {
     "name": "stdout",
     "output_type": "stream",
     "text": [
      "(256,)\n",
      "(256,)\n",
      "(256,)\n",
      "(256,)\n"
     ]
    }
   ],
   "source": [
    "img2_one_prob = (np.sum(img2_X_test,axis=0)+1) / (len(img2_X_test)+2)\n",
    "img2_zero_prob = 1 - img2_one_prob\n",
    "img4_one_prob = (np.sum(img4_X_test,axis=0)+1) / (len(img4_X_test)+2)\n",
    "img4_zero_prob = 1 - img4_one_prob\n",
    "\n",
    "print(img2_one_prob.shape)\n",
    "print(img2_zero_prob.shape)\n",
    "print(img4_one_prob.shape)\n",
    "print(img4_zero_prob.shape)"
   ]
  },
  {
   "cell_type": "markdown",
   "metadata": {},
   "source": [
    "#### Class Probabilities"
   ]
  },
  {
   "cell_type": "code",
   "execution_count": 60,
   "metadata": {},
   "outputs": [
    {
     "name": "stdout",
     "output_type": "stream",
     "text": [
      "Probability for class 2 is 0.5\n",
      "Probability for class 4 is 0.5\n"
     ]
    }
   ],
   "source": [
    "# your code here\n",
    "\n",
    "prob_class_two = np.sum(Y_test==2) / len(Y_test)\n",
    "print(f'Probability for class 2 is {prob_class_two}')\n",
    "\n",
    "prob_class_four = np.sum(Y_test==4) / len(Y_test)\n",
    "print(f'Probability for class 4 is {prob_class_four}')\n",
    "\n"
   ]
  },
  {
   "cell_type": "markdown",
   "metadata": {},
   "source": [
    "#### Predictions"
   ]
  },
  {
   "cell_type": "code",
   "execution_count": 61,
   "metadata": {},
   "outputs": [
    {
     "name": "stdout",
     "output_type": "stream",
     "text": [
      "Predicted labels: [2, 2, 2, 2, 2, 2, 2, 2, 2, 2, 2, 2, 2, 2, 2, 2, 2, 2, 2, 2, 2, 2, 2, 2, 2, 2, 2, 2, 2, 2, 2, 2, 2, 2, 2, 2, 2, 2, 2, 2, 2, 2, 2, 2, 2, 2, 2, 2, 2, 2, 4, 4, 4, 4, 4, 4, 4, 4, 4, 4, 4, 4, 4, 4, 4, 4, 4, 4, 4, 4, 4, 4, 4, 4, 4, 4, 4, 4, 4, 4, 4, 4, 4, 4, 4, 4, 4, 4, 4, 4, 4, 4, 4, 4, 4, 4, 4, 4, 4, 4]\n"
     ]
    }
   ],
   "source": [
    "# your code here\n",
    "def predict_label(x):\n",
    "    # Calculate likelihoods for each class\n",
    "    likelihood_class2 = np.prod(np.power(img2_one_prob, x) * np.power(img2_zero_prob, 1 - x))\n",
    "    likelihood_class4 = np.prod(np.power(img4_one_prob, x) * np.power(img4_zero_prob, 1 - x))\n",
    "\n",
    "    # Apply Bayes' theorem\n",
    "\n",
    "    posterior_prob_class2 = (likelihood_class2 * prob_class_two) \n",
    "    posterior_prob_class4 = (likelihood_class4 * prob_class_four) \n",
    "\n",
    "    # Predict the class label based on the highest posterior probability\n",
    "    if posterior_prob_class2 > posterior_prob_class4:\n",
    "        return 2, posterior_prob_class2\n",
    "    else:\n",
    "        return 4, posterior_prob_class4\n",
    "predicted_labels = []\n",
    "probabilities = []\n",
    "\n",
    "# Predict labels and calculate probabilities for each data point in X_test\n",
    "for data_point in X_test:\n",
    "    label, prob = predict_label(data_point)\n",
    "    predicted_labels.append(label)\n",
    "    probabilities.append(prob)\n"
   ]
  },
  {
   "cell_type": "code",
   "execution_count": null,
   "metadata": {},
   "outputs": [],
   "source": []
  },
  {
   "cell_type": "markdown",
   "metadata": {},
   "source": [
    "#### Classwise Accuracy"
   ]
  },
  {
   "cell_type": "code",
   "execution_count": 62,
   "metadata": {},
   "outputs": [
    {
     "name": "stdout",
     "output_type": "stream",
     "text": [
      "Total accuracy of Testing data given class 2:  1.0\n",
      "Total accuracy of Testing data given class 4:  1.0\n"
     ]
    }
   ],
   "source": [
    "# your code here\n",
    "predicted_labels = np.array(predicted_labels)\n",
    "class2_indices = np.where(Y_test == 2)[0]\n",
    "class2_correct_predictions = np.sum((predicted_labels[class2_indices] == Y_test[class2_indices]).astype(int))\n",
    "class2_total_instances = len(class2_indices)\n",
    "class2_test_total_accuracy = class2_correct_predictions / class2_total_instances if class2_total_instances > 0 else 0\n",
    "\n",
    "class4_indices = np.where(Y_test == 4)[0]\n",
    "class4_correct_predictions = np.sum((predicted_labels[class4_indices] == Y_test[class4_indices]).astype(int))\n",
    "class4_total_instances = len(class4_indices)\n",
    "class4_test_total_accuracy = class4_correct_predictions / class4_total_instances if class4_total_instances > 0 else 0\n",
    "\n",
    "\n",
    "print(\"Total accuracy of Testing data given class 2: \", class2_test_total_accuracy)\n",
    "print(\"Total accuracy of Testing data given class 4: \", class4_test_total_accuracy)"
   ]
  },
  {
   "cell_type": "markdown",
   "metadata": {},
   "source": [
    "Expected Output <br>\n",
    "\n",
    "- Total accuracy of Testing data given class 2:  1.0\n",
    "<br>\n",
    "- Total accuracy of Testing data given class 4:  1.0"
   ]
  },
  {
   "cell_type": "markdown",
   "metadata": {},
   "source": [
    "#### Overall Accuracy"
   ]
  },
  {
   "cell_type": "code",
   "execution_count": 63,
   "metadata": {},
   "outputs": [
    {
     "name": "stdout",
     "output_type": "stream",
     "text": [
      "TP = 50 FP = 0\n",
      "FN = 0 TN = 50\n",
      "Overall Accuracy 1.0\n"
     ]
    }
   ],
   "source": [
    "# your code here \n",
    "actual2_predictions2 = np.sum((predicted_labels[class2_indices] == Y_test[class2_indices]).astype(int))\n",
    "actual4_predictions2 = np.sum((predicted_labels[class2_indices] == Y_test[class4_indices]).astype(int))\n",
    "actual2_predictions4 = np.sum((predicted_labels[class4_indices] == Y_test[class2_indices]).astype(int))\n",
    "actual4_predictions4 = np.sum((predicted_labels[class4_indices] == Y_test[class4_indices]).astype(int))\n",
    "print(f'TP = {actual2_predictions2} FP = {actual4_predictions2}\\nFN = {actual2_predictions4} TN = {actual4_predictions4}')\n",
    "\n",
    "accuracy = np.sum(predicted_labels == Y_test)/len(Y_test)\n",
    "print(f'Overall Accuracy {accuracy}')\n",
    "\n",
    "\n",
    "\n"
   ]
  },
  {
   "cell_type": "markdown",
   "metadata": {},
   "source": [
    "Expected Output \n",
    "<br><br>\n",
    "**Confusion Matrix**\n",
    "<br>\n",
    "TP =  50 \tFP =  0\n",
    "<br>\n",
    "FN =  0 \tTN =  50\n",
    "<br>\n",
    "- Overall Accuracy =  1.0"
   ]
  },
  {
   "cell_type": "markdown",
   "metadata": {},
   "source": [
    "### Plot your Test pixels/features in form of image to correctly identify whether our model is giving correct results"
   ]
  },
  {
   "cell_type": "markdown",
   "metadata": {},
   "source": [
    "2 plots for each class"
   ]
  },
  {
   "cell_type": "code",
   "execution_count": 73,
   "metadata": {},
   "outputs": [
    {
     "data": {
      "image/png": "[encoded data removed]",
      "text/plain": [
       "<Figure size 640x480 with 1 Axes>"
      ]
     },
     "metadata": {},
     "output_type": "display_data"
    }
   ],
   "source": [
    "img = np.reshape(img2_X_test[0], (16, 16), order='F').astype(np.uint8)\n",
    "plt.imshow(img, cmap='gray')\n",
    "plt.title('Image of 2')\n",
    "plt.show()\n"
   ]
  },
  {
   "cell_type": "code",
   "execution_count": 75,
   "metadata": {},
   "outputs": [
    {
     "data": {
      "image/png": "[encoded data removed]",
      "text/plain": [
       "<Figure size 640x480 with 1 Axes>"
      ]
     },
     "metadata": {},
     "output_type": "display_data"
    }
   ],
   "source": [
    "img = np.reshape(img2_X_test[10], (16, 16), order='F').astype(np.uint8)\n",
    "\n",
    "# Plot the image\n",
    "plt.imshow(img, cmap='gray')\n",
    "plt.title('Image of 2')\n",
    "plt.show()"
   ]
  },
  {
   "cell_type": "code",
   "execution_count": 76,
   "metadata": {},
   "outputs": [
    {
     "data": {
      "image/png": "[encoded data removed]",
      "text/plain": [
       "<Figure size 640x480 with 1 Axes>"
      ]
     },
     "metadata": {},
     "output_type": "display_data"
    }
   ],
   "source": [
    "img = np.reshape(img4_X_test[11], (16, 16), order='F').astype(np.uint8)\n",
    "\n",
    "# Plot the image\n",
    "plt.imshow(img, cmap='gray')\n",
    "plt.title('Image of 2')\n",
    "plt.show()"
   ]
  },
  {
   "cell_type": "code",
   "execution_count": 79,
   "metadata": {},
   "outputs": [
    {
     "data": {
      "image/png": "[encoded data removed]",
      "text/plain": [
       "<Figure size 640x480 with 1 Axes>"
      ]
     },
     "metadata": {},
     "output_type": "display_data"
    }
   ],
   "source": [
    "img = np.reshape(img4_X_test[10], (16, 16), order='F').astype(np.uint8)\n",
    "\n",
    "# Plot the image\n",
    "plt.imshow(img, cmap='gray')\n",
    "plt.title('Image of 2')\n",
    "plt.show()"
   ]
  },
  {
   "cell_type": "markdown",
   "metadata": {},
   "source": [
    "Your Oppinion on the results about why naive bayes worked well for  this OCR\n",
    "and give one example where naive bayes can not be used\n"
   ]
  },
  {
   "cell_type": "markdown",
   "metadata": {},
   "source": [
    "Solution :"
   ]
  },
  {
   "cell_type": "markdown",
   "metadata": {},
   "source": [
    " Naive Bayes classifiers can work well for OCR tasks due to their simplicity, efficiency, and ability to handle high-dimensional data, they may not be appropriate for tasks where feature dependencies are significant, feature scaling is crucial, or non-linear relationships exist between features and class labels."
   ]
  }
 ],
 "metadata": {
  "kernelspec": {
   "display_name": "Python 3 (ipykernel)",
   "language": "python",
   "name": "python3"
  },
  "language_info": {
   "codemirror_mode": {
    "name": "ipython",
    "version": 3
   },
   "file_extension": ".py",
   "mimetype": "text/x-python",
   "name": "python",
   "nbconvert_exporter": "python",
   "pygments_lexer": "ipython3",
   "version": "3.11.4"
  }
 },
 "nbformat": 4,
 "nbformat_minor": 2
}
